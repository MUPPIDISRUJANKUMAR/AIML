{
 "cells": [
  {
   "cell_type": "markdown",
   "id": "148e9027",
   "metadata": {},
   "source": [
    "# LAB-02:Implement Ai Search"
   ]
  },
  {
   "cell_type": "markdown",
   "id": "dde6d3aa",
   "metadata": {},
   "source": [
    "## Part-01:Implement Breadth First Search Algorithm"
   ]
  },
  {
   "cell_type": "code",
   "execution_count": 1,
   "id": "80f77af5",
   "metadata": {},
   "outputs": [],
   "source": [
    "import numpy as np"
   ]
  },
  {
   "cell_type": "code",
   "execution_count": 2,
   "id": "2f8bf344",
   "metadata": {},
   "outputs": [
    {
     "name": "stdout",
     "output_type": "stream",
     "text": [
      "The adjacency List repersenting the graph is:\n",
      "{0: [1, 3], 1: [0, 2, 3], 2: [4, 1, 5], 3: [4, 0, 1], 4: [2, 3, 5], 5: [2, 5], 6: []}\n"
     ]
    }
   ],
   "source": [
    "from queue import Queue\n",
    "graph={0:[1,3],1:[0,2,3],2:[4,1,5],3:[4,0,1],4:[2,3,5],5:[2,5],6:[]}\n",
    "print(\"The adjacency List repersenting the graph is:\")\n",
    "print(graph)"
   ]
  },
  {
   "cell_type": "code",
   "execution_count": 3,
   "id": "b3d65804",
   "metadata": {},
   "outputs": [
    {
     "name": "stdout",
     "output_type": "stream",
     "text": [
      "BFS traversal of graph with source 1 is\n",
      "1-->2-->3-->4-->1-->5-->"
     ]
    }
   ],
   "source": [
    "def bfs(graph,source):\n",
    "    Q=Queue()\n",
    "    visited_vertices=set()\n",
    "    Q.put(source)\n",
    "    visited_vertices.update({0})\n",
    "    while not Q.empty():\n",
    "        vertex=Q.get()\n",
    "        print(vertex,end=\"-->\")\n",
    "        for u in graph[vertex]:\n",
    "            if u not in visited_vertices:\n",
    "                Q.put(u)\n",
    "                visited_vertices.update({u})\n",
    "print(\"BFS traversal of graph with source 1 is\")\n",
    "bfs(graph,1)"
   ]
  },
  {
   "cell_type": "markdown",
   "id": "79cb434b",
   "metadata": {},
   "source": [
    "## Part-02:Implementation of Depth First Search "
   ]
  },
  {
   "cell_type": "code",
   "execution_count": 4,
   "id": "1a830ea3",
   "metadata": {},
   "outputs": [
    {
     "name": "stdout",
     "output_type": "stream",
     "text": [
      "The adjacency List repersenting the graph is:\n",
      "{0: [1, 3], 1: [0, 2, 3], 2: [4, 1, 5], 3: [4, 0, 1], 4: [2, 3, 5], 5: [2, 5], 6: []}\n"
     ]
    }
   ],
   "source": [
    "graph1={\n",
    "    'A':['B','S'],\n",
    "    'B':['A'],\n",
    "    'C':['S','D','E','F'],\n",
    "    'D':['C'],\n",
    "    'E':['H','C'],\n",
    "    'F':['G','C'],\n",
    "    'G':['F','S','H'],\n",
    "    'H':['G','E'],\n",
    "    'S':['C','G','A']\n",
    "}\n",
    "print(\"The adjacency List repersenting the graph is:\")\n",
    "print(graph)"
   ]
  },
  {
   "cell_type": "code",
   "execution_count": 5,
   "id": "54c211de",
   "metadata": {},
   "outputs": [
    {
     "name": "stdout",
     "output_type": "stream",
     "text": [
      "['D', 'C', 'S', 'G', 'F', 'H', 'E', 'A', 'B']\n"
     ]
    }
   ],
   "source": [
    "def dfs(graph,node,visited):\n",
    "    if node not in visited:\n",
    "        visited.append(node)\n",
    "        for k in graph[node]:\n",
    "            dfs(graph,k,visited)\n",
    "    return visited \n",
    "visited=dfs(graph1,'D',[])\n",
    "print(visited)"
   ]
  },
  {
   "cell_type": "markdown",
   "id": "69c44034",
   "metadata": {},
   "source": []
  }
 ],
 "metadata": {
  "kernelspec": {
   "display_name": "Python 3 (ipykernel)",
   "language": "python",
   "name": "python3"
  },
  "language_info": {
   "codemirror_mode": {
    "name": "ipython",
    "version": 3
   },
   "file_extension": ".py",
   "mimetype": "text/x-python",
   "name": "python",
   "nbconvert_exporter": "python",
   "pygments_lexer": "ipython3",
   "version": "3.11.4"
  }
 },
 "nbformat": 4,
 "nbformat_minor": 5
}
